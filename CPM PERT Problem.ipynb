{
 "cells": [
  {
   "cell_type": "markdown",
   "metadata": {},
   "source": [
    "# CPM"
   ]
  },
  {
   "cell_type": "markdown",
   "metadata": {},
   "source": [
    "### Critical path"
   ]
  },
  {
   "cell_type": "code",
   "execution_count": 1,
   "metadata": {},
   "outputs": [
    {
     "name": "stdout",
     "output_type": "stream",
     "text": [
      "Collecting criticalpath\n",
      "  Downloading https://files.pythonhosted.org/packages/f0/b3/4a0151bffc3315f414c483dce6313b8473a2d0221a359a4d80d48fa78cba/criticalpath-0.1.5.tar.gz\n",
      "Building wheels for collected packages: criticalpath\n",
      "  Running setup.py bdist_wheel for criticalpath: started\n",
      "  Running setup.py bdist_wheel for criticalpath: finished with status 'done'\n",
      "  Stored in directory: C:\\Users\\Debyendu Dey\\AppData\\Local\\pip\\Cache\\wheels\\49\\07\\a6\\e04086e98dc47934106a674b7fe4708ef4f49168f39266a182\n",
      "Successfully built criticalpath\n",
      "Installing collected packages: criticalpath\n",
      "Successfully installed criticalpath-0.1.5\n"
     ]
    }
   ],
   "source": [
    "!pip install criticalpath\n",
    "from criticalpath import Node"
   ]
  },
  {
   "cell_type": "code",
   "execution_count": 2,
   "metadata": {},
   "outputs": [],
   "source": [
    "from criticalpath import Node\n",
    "p = Node('project')\n",
    "a = p.add(Node('A', duration=3))\n",
    "b = p.add(Node('B', duration=3, lag=0))\n",
    "c = p.add(Node('C', duration=4, lag=0))\n",
    "d = p.add(Node('D', duration=6, lag=0))\n",
    "e = p.add(Node('E', duration=5, lag=0))\n",
    "p.link(a, b).link(a, c).link(a, d).link(b, e).link(c, e).link(d, e)\n",
    "p.update_all()"
   ]
  },
  {
   "cell_type": "code",
   "execution_count": 3,
   "metadata": {},
   "outputs": [
    {
     "name": "stdout",
     "output_type": "stream",
     "text": [
      "Critical Path:  [A, D, E]\n",
      "Duration:  14\n"
     ]
    }
   ],
   "source": [
    "print('Critical Path: ',p.get_critical_path())\n",
    "print('Duration: ', p.duration)"
   ]
  },
  {
   "cell_type": "markdown",
   "metadata": {},
   "source": [
    "# PERT"
   ]
  },
  {
   "cell_type": "code",
   "execution_count": 12,
   "metadata": {},
   "outputs": [],
   "source": [
    "#pip install pert"
   ]
  },
  {
   "cell_type": "code",
   "execution_count": 9,
   "metadata": {},
   "outputs": [],
   "source": [
    "import pert"
   ]
  },
  {
   "cell_type": "code",
   "execution_count": 13,
   "metadata": {},
   "outputs": [],
   "source": [
    "#help(pert)"
   ]
  },
  {
   "cell_type": "code",
   "execution_count": null,
   "metadata": {},
   "outputs": [],
   "source": []
  }
 ],
 "metadata": {
  "kernelspec": {
   "display_name": "Python 3",
   "language": "python",
   "name": "python3"
  },
  "language_info": {
   "codemirror_mode": {
    "name": "ipython",
    "version": 3
   },
   "file_extension": ".py",
   "mimetype": "text/x-python",
   "name": "python",
   "nbconvert_exporter": "python",
   "pygments_lexer": "ipython3",
   "version": "3.7.1"
  }
 },
 "nbformat": 4,
 "nbformat_minor": 2
}
