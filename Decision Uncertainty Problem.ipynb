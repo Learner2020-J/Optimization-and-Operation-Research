{
 "cells": [
  {
   "cell_type": "markdown",
   "metadata": {},
   "source": [
    "## Desision Uncertainity"
   ]
  },
  {
   "cell_type": "code",
   "execution_count": 49,
   "metadata": {},
   "outputs": [],
   "source": [
    "import numpy as np"
   ]
  },
  {
   "cell_type": "code",
   "execution_count": 50,
   "metadata": {},
   "outputs": [],
   "source": [
    "supply_demand_matrix= np.array([[8, 9 ,7],\n",
    "                                [4, 3, 5],\n",
    "                                [8, 5, 6]])"
   ]
  },
  {
   "cell_type": "markdown",
   "metadata": {},
   "source": [
    "### Equal Probablity"
   ]
  },
  {
   "cell_type": "code",
   "execution_count": 19,
   "metadata": {},
   "outputs": [],
   "source": [
    "def get_equal_probablity(supply_demand_matrix):\n",
    "    print('Columns are considered as demand')\n",
    "    print('Rows are considered as supply')\n",
    "    return sorted(supply_demand_matrix.sum(axis=1)/supply_demand_matrix.shape[0], reverse=True)[0]"
   ]
  },
  {
   "cell_type": "code",
   "execution_count": 51,
   "metadata": {},
   "outputs": [
    {
     "name": "stdout",
     "output_type": "stream",
     "text": [
      "Columns are considered as demand\n",
      "Rows are considered as supply\n"
     ]
    },
    {
     "data": {
      "text/plain": [
       "8.0"
      ]
     },
     "execution_count": 51,
     "metadata": {},
     "output_type": "execute_result"
    }
   ],
   "source": [
    "get_equal_probablity(supply_demand_matrix)"
   ]
  },
  {
   "cell_type": "markdown",
   "metadata": {},
   "source": [
    "## Criterian of Optimism"
   ]
  },
  {
   "cell_type": "code",
   "execution_count": 52,
   "metadata": {},
   "outputs": [],
   "source": [
    "def get_criterian_of_optimism(supply_demand_matrix):\n",
    "    print('Columns are considered as demand')\n",
    "    print('Rows are considered as supply')\n",
    "    rows = supply_demand_matrix.shape[0]\n",
    "    max_= []\n",
    "    for i in range(rows):\n",
    "        row_data = supply_demand_matrix[i]\n",
    "        max_.append(sorted(row_data, reverse=True)[0])\n",
    "    return sorted(max_, reverse=True)[0]"
   ]
  },
  {
   "cell_type": "code",
   "execution_count": 53,
   "metadata": {},
   "outputs": [
    {
     "name": "stdout",
     "output_type": "stream",
     "text": [
      "Columns are considered as demand\n",
      "Rows are considered as supply\n"
     ]
    },
    {
     "data": {
      "text/plain": [
       "9"
      ]
     },
     "execution_count": 53,
     "metadata": {},
     "output_type": "execute_result"
    }
   ],
   "source": [
    "get_criterian_of_optimism(supply_demand_matrix)"
   ]
  },
  {
   "cell_type": "markdown",
   "metadata": {},
   "source": [
    "### Criterian of Pessimism"
   ]
  },
  {
   "cell_type": "code",
   "execution_count": 54,
   "metadata": {},
   "outputs": [],
   "source": [
    "def get_criterian_of_pessimism(supply_demand_matrix):\n",
    "    print('Columns are considered as demand')\n",
    "    print('Rows are considered as supply')\n",
    "    rows = supply_demand_matrix.shape[0]\n",
    "    max_= []\n",
    "    for i in range(rows):\n",
    "        row_data = supply_demand_matrix[i]\n",
    "        max_.append(sorted(row_data)[0])\n",
    "    return sorted(max_, reverse=True)[0]"
   ]
  },
  {
   "cell_type": "code",
   "execution_count": 55,
   "metadata": {},
   "outputs": [
    {
     "name": "stdout",
     "output_type": "stream",
     "text": [
      "Columns are considered as demand\n",
      "Rows are considered as supply\n"
     ]
    },
    {
     "data": {
      "text/plain": [
       "7"
      ]
     },
     "execution_count": 55,
     "metadata": {},
     "output_type": "execute_result"
    }
   ],
   "source": [
    "get_criterian_of_pessimism(supply_demand_matrix)"
   ]
  },
  {
   "cell_type": "markdown",
   "metadata": {},
   "source": [
    "### Savage Criteria or MinMax Regret"
   ]
  },
  {
   "cell_type": "code",
   "execution_count": 77,
   "metadata": {},
   "outputs": [],
   "source": [
    "supply_demand_matrix = np.array([[100, 150, 750, 0],\n",
    "                                [25, 200, 350, 310],\n",
    "                                [-50, 125, 325, 475],\n",
    "                                [-150, 50, 225, 410]])"
   ]
  },
  {
   "cell_type": "code",
   "execution_count": 87,
   "metadata": {},
   "outputs": [],
   "source": [
    "def get_min_max_reget(supply_demand_matrix):\n",
    "    print('Columns are considered as demand')\n",
    "    print('Rows are considered as supply')\n",
    "    temp = supply_demand_matrix.T\n",
    "    max_ = []\n",
    "    for i in range(temp.shape[0]):\n",
    "        row_data = temp[i]\n",
    "        max_.append(sorted(row_data, reverse=True)[0])\n",
    "    max_ = np.array(max_)\n",
    "    temp = max_ - supply_demand_matrix\n",
    "    \n",
    "    max_ = []\n",
    "    for i in range(temp.shape[0]):\n",
    "        row_data = temp[i]\n",
    "        max_.append(sorted(row_data, reverse=True)[0])\n",
    "    return sorted(max_)[0]"
   ]
  },
  {
   "cell_type": "code",
   "execution_count": 88,
   "metadata": {},
   "outputs": [
    {
     "name": "stdout",
     "output_type": "stream",
     "text": [
      "Columns are considered as demand\n",
      "Rows are considered as supply\n"
     ]
    },
    {
     "data": {
      "text/plain": [
       "400"
      ]
     },
     "execution_count": 88,
     "metadata": {},
     "output_type": "execute_result"
    }
   ],
   "source": [
    "get_min_max_reget(supply_demand_matrix)"
   ]
  },
  {
   "cell_type": "markdown",
   "metadata": {},
   "source": [
    "### Criterian of Realism"
   ]
  },
  {
   "cell_type": "code",
   "execution_count": 107,
   "metadata": {},
   "outputs": [],
   "source": [
    "def get_criterian_of_realism(supply_demand_matrix, alpha=0.5):\n",
    "    print('Columns are considered as demand')\n",
    "    print('Rows are considered as supply')\n",
    "    temp = supply_demand_matrix\n",
    "    max_ = []\n",
    "    min_ = []\n",
    "    for i in range(temp.shape[0]):\n",
    "        row_data = temp[i]\n",
    "        max_.append(sorted(row_data, reverse=True)[0])\n",
    "        min_.append(sorted(row_data)[0])\n",
    "    max_ = np.array(max_)\n",
    "    min_ = np.array(min_)\n",
    "    return sorted(max_ * alpha + min_ * (1 - alpha), reverse=True)[0]\n",
    "    "
   ]
  },
  {
   "cell_type": "code",
   "execution_count": 108,
   "metadata": {},
   "outputs": [
    {
     "name": "stdout",
     "output_type": "stream",
     "text": [
      "Columns are considered as demand\n",
      "Rows are considered as supply\n"
     ]
    },
    {
     "data": {
      "text/plain": [
       "375.0"
      ]
     },
     "execution_count": 108,
     "metadata": {},
     "output_type": "execute_result"
    }
   ],
   "source": [
    "get_criterian_of_realism(supply_demand_matrix)"
   ]
  }
 ],
 "metadata": {
  "kernelspec": {
   "display_name": "Python 3",
   "language": "python",
   "name": "python3"
  },
  "language_info": {
   "codemirror_mode": {
    "name": "ipython",
    "version": 3
   },
   "file_extension": ".py",
   "mimetype": "text/x-python",
   "name": "python",
   "nbconvert_exporter": "python",
   "pygments_lexer": "ipython3",
   "version": "3.7.1"
  }
 },
 "nbformat": 4,
 "nbformat_minor": 4
}
