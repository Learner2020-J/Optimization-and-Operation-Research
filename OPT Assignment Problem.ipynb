{
 "cells": [
  {
   "cell_type": "markdown",
   "metadata": {},
   "source": [
    "## OPT Assignment Problem"
   ]
  },
  {
   "cell_type": "code",
   "execution_count": 4,
   "metadata": {},
   "outputs": [],
   "source": [
    "# pip install -i https://pypi.gurobi.com gurobipy\n",
    "from gurobipy import *\n",
    "import numpy as np"
   ]
  },
  {
   "cell_type": "code",
   "execution_count": 6,
   "metadata": {},
   "outputs": [],
   "source": [
    "def get_assignment(Set_up_time):\n",
    "    m= Model(\"Assignment Model\")\n",
    "    print(\"***************** Note : Jobs is column *************************\")\n",
    "    print(\"***************** Note : machine is row *************************\")\n",
    "    I = range(np.array(Set_up_time).shape[0])\n",
    "    J = range(np.array(Set_up_time).shape[1])\n",
    "    X = {}\n",
    "    #Defining the Variable\n",
    "    for i in I:\n",
    "        for j in J:\n",
    "           X[i,j] = m.addVar(vtype= GRB.BINARY)\n",
    "    #Objective Function\n",
    "    m.setObjective(quicksum(Set_up_time[i][j]*X[i,j] for i in I for j in J), GRB.MINIMIZE)\n",
    "    #Constraint-1\n",
    "    for i in I:\n",
    "         m.addConstr(quicksum(X[i,j] for j in J) <= 1)\n",
    "    #Constraint-2\n",
    "    for j in J:\n",
    "        m.addConstr(quicksum(X[i,j] for i in I) >= 1)\n",
    "    m.optimize()\n",
    "    for i in I:\n",
    "        print(\"-\"*30)\n",
    "        print(\"Machine:\",i)\n",
    "        print(\"-\"*30)   \n",
    "        for j in J:\n",
    "            print(\"   Jobs\",j,X[i,j].x)"
   ]
  },
  {
   "cell_type": "code",
   "execution_count": 7,
   "metadata": {},
   "outputs": [
    {
     "name": "stdout",
     "output_type": "stream",
     "text": [
      "***************** Note : Jobs is column *************************\n",
      "***************** Note : machine is row *************************\n",
      "Gurobi Optimizer version 9.1.0 build v9.1.0rc0 (win64)\n",
      "Thread count: 2 physical cores, 4 logical processors, using up to 4 threads\n",
      "Optimize a model with 8 rows, 16 columns and 32 nonzeros\n",
      "Model fingerprint: 0xdd59217b\n",
      "Variable types: 0 continuous, 16 integer (16 binary)\n",
      "Coefficient statistics:\n",
      "  Matrix range     [1e+00, 1e+00]\n",
      "  Objective range  [4e+00, 1e+01]\n",
      "  Bounds range     [1e+00, 1e+00]\n",
      "  RHS range        [1e+00, 1e+00]\n",
      "Found heuristic solution: objective 30.0000000\n",
      "Presolve time: 0.00s\n",
      "Presolved: 8 rows, 16 columns, 32 nonzeros\n",
      "Variable types: 0 continuous, 16 integer (16 binary)\n",
      "\n",
      "Root relaxation: objective 2.700000e+01, 8 iterations, 0.00 seconds\n",
      "\n",
      "    Nodes    |    Current Node    |     Objective Bounds      |     Work\n",
      " Expl Unexpl |  Obj  Depth IntInf | Incumbent    BestBd   Gap | It/Node Time\n",
      "\n",
      "*    0     0               0      27.0000000   27.00000  0.00%     -    0s\n",
      "\n",
      "Explored 0 nodes (8 simplex iterations) in 0.03 seconds\n",
      "Thread count was 4 (of 4 available processors)\n",
      "\n",
      "Solution count 2: 27 30 \n",
      "\n",
      "Optimal solution found (tolerance 1.00e-04)\n",
      "Best objective 2.700000000000e+01, best bound 2.700000000000e+01, gap 0.0000%\n",
      "------------------------------\n",
      "Machine: 0\n",
      "------------------------------\n",
      "   Jobs 0 -0.0\n",
      "   Jobs 1 -0.0\n",
      "   Jobs 2 1.0\n",
      "   Jobs 3 0.0\n",
      "------------------------------\n",
      "Machine: 1\n",
      "------------------------------\n",
      "   Jobs 0 -0.0\n",
      "   Jobs 1 0.0\n",
      "   Jobs 2 -0.0\n",
      "   Jobs 3 1.0\n",
      "------------------------------\n",
      "Machine: 2\n",
      "------------------------------\n",
      "   Jobs 0 1.0\n",
      "   Jobs 1 -0.0\n",
      "   Jobs 2 -0.0\n",
      "   Jobs 3 -0.0\n",
      "------------------------------\n",
      "Machine: 3\n",
      "------------------------------\n",
      "   Jobs 0 0.0\n",
      "   Jobs 1 1.0\n",
      "   Jobs 2 -0.0\n",
      "   Jobs 3 -0.0\n"
     ]
    }
   ],
   "source": [
    "Set_up_time = [\n",
    "    [8, 6, 4, 8],\n",
    "    [6, 5, 5, 8],\n",
    "    [9, 10, 11, 12],\n",
    "    [7, 6, 8, 10]\n",
    "]\n",
    "get_assignment(Set_up_time)"
   ]
  }
 ],
 "metadata": {
  "kernelspec": {
   "display_name": "Python 3",
   "language": "python",
   "name": "python3"
  },
  "language_info": {
   "codemirror_mode": {
    "name": "ipython",
    "version": 3
   },
   "file_extension": ".py",
   "mimetype": "text/x-python",
   "name": "python",
   "nbconvert_exporter": "python",
   "pygments_lexer": "ipython3",
   "version": "3.7.1"
  }
 },
 "nbformat": 4,
 "nbformat_minor": 4
}
