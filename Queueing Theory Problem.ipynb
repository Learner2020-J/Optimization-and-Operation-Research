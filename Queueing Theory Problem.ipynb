{
 "cells": [
  {
   "cell_type": "markdown",
   "metadata": {},
   "source": [
    "# Queueing Theory"
   ]
  },
  {
   "cell_type": "code",
   "execution_count": 7,
   "metadata": {},
   "outputs": [],
   "source": [
    "lamda  = 10  # arrival rate\n",
    "mu     = 15  # service rate"
   ]
  },
  {
   "cell_type": "code",
   "execution_count": 8,
   "metadata": {},
   "outputs": [],
   "source": [
    "rho = lamda /mu \n",
    "P0 = 1 -(rho)        # there is no one in the queue = (1 - (lambda/mu))\n",
    "Ls = rho/(1- rho)    # No of customer in system = lambda/(mu -lambda)\n",
    "Lq = float(Ls - rho) # No of customers in queuq = Ls - P0\n",
    "Ws = Ls/lamda        # Average waiting time in system\n",
    "Wq = Lq/lamda        # Average waiting time in queue"
   ]
  },
  {
   "cell_type": "code",
   "execution_count": 11,
   "metadata": {},
   "outputs": [
    {
     "name": "stdout",
     "output_type": "stream",
     "text": [
      " The probability of system being empty is      :  0.33\n",
      " The average number of customers in the system :  2.0\n",
      " The average number of customers in the queue  :  2.0\n",
      " The average waiting time in the system in hour:  0.2\n",
      " The average waiting time in the queus in hour :  0.13\n"
     ]
    }
   ],
   "source": [
    "print(\" The probability of system being empty is      : \", round(P0,2))\n",
    "print(\" The average number of customers in the system : \", round(Ls,2))\n",
    "print(\" The average number of customers in the queue  : \", round(Ls,2))\n",
    "print(\" The average waiting time in the system in hour: \", round(Ws,2))\n",
    "print(\" The average waiting time in the queus in hour : \", round(Wq,2))\n"
   ]
  }
 ],
 "metadata": {
  "kernelspec": {
   "display_name": "Python 3",
   "language": "python",
   "name": "python3"
  },
  "language_info": {
   "codemirror_mode": {
    "name": "ipython",
    "version": 3
   },
   "file_extension": ".py",
   "mimetype": "text/x-python",
   "name": "python",
   "nbconvert_exporter": "python",
   "pygments_lexer": "ipython3",
   "version": "3.8.0"
  }
 },
 "nbformat": 4,
 "nbformat_minor": 2
}
